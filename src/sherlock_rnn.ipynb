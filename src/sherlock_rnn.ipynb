{
 "cells": [
  {
   "cell_type": "markdown",
   "metadata": {},
   "source": [
    "# Recurrent Neural Network Trained on Sherlock Holmes\n",
    "\n",
    "*Patrick Coady (pcoady@alum.mit.edu)*\n",
    "\n",
    "This notebook trains a Recurrent Neural Network (RNN) on 3 *Sherlock Holmes* books. We use words (as opposed to individual characters) as the input to the RNN and predict the last word in a sequence. A sampled loss function is used to avoid evaluating a 11,500-way (i.e. vocabulary size) softmax each training example.\n",
    "\n",
    "This notebook takes full advantage of [TensorBoard](https://www.tensorflow.org/get_started/embedding_viz):\n",
    "- graph visualization\n",
    "- monitor training loss\n",
    "- visualize trajectory weights and biases during training\n",
    "- visualize activations during training\n",
    "- 3D visualization of learned word vectors\n",
    "\n",
    "These were 4 key objectives of this small project:\n",
    "1. Learn and apply Tensorboard\n",
    "2. Subjectively evaluate the quality of RNN-learned word-embeddings\n",
    "3. Compare Basic RNN, GRU and LSTM cells\n",
    "4. Build a clean, compact TensorFlow model that is useful to others as they learn TensorFlow\n",
    "\n",
    "The results are are discussed in [this blog post](https://pat-coady.github.io)."
   ]
  },
  {
   "cell_type": "code",
   "execution_count": 1,
   "metadata": {
    "collapsed": false,
    "deletable": true,
    "editable": true
   },
   "outputs": [],
   "source": [
    "import numpy as np\n",
    "import tensorflow as tf\n",
    "import random\n",
    "from tqdm import tqdm_notebook  # progress bar\n",
    "\n",
    "import docload  # methods for loading and processing Project Gutenberg books."
   ]
  },
  {
   "cell_type": "code",
   "execution_count": 2,
   "metadata": {
    "collapsed": false,
    "deletable": true,
    "editable": true
   },
   "outputs": [
    {
     "name": "stdout",
     "output_type": "stream",
     "text": [
      "Document loaded and processed: 24080 lines, 247812 words.\n"
     ]
    }
   ],
   "source": [
    "files = ['../data/adventures_of_sherlock_holmes.txt',\n",
    "        '../data/hound_of_the_baskervilles.txt',\n",
    "        '../data/sign_of_the_four.txt']\n",
    "word_array, dictionary, num_lines, num_words = docload.build_word_array(\n",
    "    files, vocab_size=50000, gutenberg=True)\n",
    "reverse_dict = {v: k for k, v in dictionary.items()}\n",
    "print('Document loaded and processed: {} lines, {} words.'\n",
    "      .format(num_lines, num_words))"
   ]
  },
  {
   "cell_type": "code",
   "execution_count": 3,
   "metadata": {
    "collapsed": false,
    "deletable": true,
    "editable": true
   },
   "outputs": [],
   "source": [
    "class Config(object):\n",
    "    \"\"\"Model parameters\"\"\"\n",
    "    def __init__(self, num_words):\n",
    "        self.vocab_size = num_words\n",
    "        self.batch_size = 32\n",
    "        self.num_rnn_steps = 20  # unrolled length of RNN\n",
    "        self.embed_size = 192    # input embedding\n",
    "        self.rnn_size = 192      # number of RNN units\n",
    "        self.hidden_size = 128   # hidden layer connected to last output of RNN\n",
    "        self.rui_init = 0.01     # maxval, -minval for random_uniform_initializer\n",
    "        self.vsi_init = 0.01     # stddev multiplier (factor) for variance_scaling_initializer\n",
    "        self.neg_samples = 64    # for noise contrastive estimation (candidate sampling loss function)\n",
    "        self.learn_rate = 0.1\n",
    "        self.opt = 'lstm'        # optimizer\n",
    "        self.momentum = 0.9\n",
    "        self.epochs = 50\n",
    "        self.embed_vis_depth = 1024  # number of word embeddings to visualize in TensorBoard\n",
    "\n",
    "config = Config(len(dictionary))"
   ]
  },
  {
   "cell_type": "code",
   "execution_count": 4,
   "metadata": {
    "collapsed": true
   },
   "outputs": [],
   "source": [
    "# write metadata file for TensorBoard embedding visualization\n",
    "with open('../tf_logs/embed_metadata.tsv', 'w') as f:\n",
    "    for i in range(config.embed_vis_depth):\n",
    "        f.write(reverse_dict[i]+'\\n')   "
   ]
  },
  {
   "cell_type": "code",
   "execution_count": 5,
   "metadata": {
    "collapsed": false,
    "deletable": true,
    "editable": true
   },
   "outputs": [],
   "source": [
    "# aliases for especially long TensorFlow calls\n",
    "rui = tf.random_uniform_initializer\n",
    "vsi = tf.contrib.layers.variance_scaling_initializer\n",
    "# commonly used initializers in model\n",
    "rui_initializer = rui(-config.rui_init, config.rui_init, dtype=tf.float32)\n",
    "vsi_initializer = vsi(factor=config.vsi_init, dtype=tf.float32)\n",
    "zero_initializer = tf.zeros_initializer(dtype=tf.float32)"
   ]
  },
  {
   "cell_type": "code",
   "execution_count": 6,
   "metadata": {
    "collapsed": false,
    "deletable": true,
    "editable": true
   },
   "outputs": [],
   "source": [
    "def feeder(config, word_array):\n",
    "    \"\"\"Generator. Yields training example tuples: (input, target).\n",
    "\n",
    "    Args:\n",
    "        config: Config object with model parameters.\n",
    "        word_array: np.array (int), as generated by docload.build_word_array()\n",
    "\n",
    "    Returns:\n",
    "        Yields a tuple of NumPy arrays: (input, target)\n",
    "    \"\"\"\n",
    "    batch_width = len(word_array) // config.batch_size\n",
    "    data = np.reshape(word_array[0 : config.batch_size*batch_width],\n",
    "                      (config.batch_size, batch_width))\n",
    "    shuffle_index = [x for x in range(batch_width - config.num_rnn_steps - 1)]\n",
    "    random.shuffle(shuffle_index)\n",
    "    for i in shuffle_index:\n",
    "        x = data[:, (i):(i+config.num_rnn_steps)]\n",
    "        y = data[:, i+config.num_rnn_steps].reshape((-1, 1))\n",
    "        yield (x, y)\n",
    "        \n",
    "def epoch_len(config, word_array):\n",
    "    \"\"\"Number of training steps in an epoch. Used for progress bar\"\"\"\n",
    "    batch_width = len(word_array) // config.batch_size\n",
    "    return batch_width - config.num_rnn_steps - 1"
   ]
  },
  {
   "cell_type": "code",
   "execution_count": 7,
   "metadata": {
    "collapsed": false,
    "deletable": true,
    "editable": true
   },
   "outputs": [],
   "source": [
    "def model(config):\n",
    "    '''Embedding layer, RNN and hidden layer'''\n",
    "    with tf.name_scope('embedding'):\n",
    "        x = tf.placeholder(tf.int32, shape=(config.batch_size, config.num_rnn_steps), name='input')\n",
    "        with tf.variable_scope('embedding', initializer=rui_initializer):\n",
    "            embed_w = tf.get_variable('w', [config.vocab_size, config.embed_size])\n",
    "        embed_out = tf.nn.embedding_lookup(embed_w, x, name='output')\n",
    "        tf.summary.histogram('embed_out', embed_out)        \n",
    "        top_embed = tf.Variable(tf.zeros([1024, config.embed_size], dtype=tf.float32),\n",
    "                                name=\"top_n_embedding\")\n",
    "        assign_embed = top_embed.assign(embed_w[:1024, :])\n",
    "            \n",
    "    with tf.variable_scope('rnn', initializer=vsi_initializer):\n",
    "        rnn_cell = tf.contrib.rnn.BasicLSTMCell(config.rnn_size, activation=tf.tanh)\n",
    "        rnn_out, state = tf.nn.dynamic_rnn(rnn_cell, embed_out, dtype=tf.float32)\n",
    "        tf.summary.histogram('rnn_out', rnn_out)        \n",
    "        \n",
    "    with tf.name_scope('hidden'):\n",
    "        rnn_last_output = rnn_out[:, config.num_rnn_steps-1, :]\n",
    "        with tf.variable_scope('hidden'):\n",
    "            hid_w = tf.get_variable('w', (config.rnn_size, config.hidden_size),\n",
    "                                   initializer=vsi_initializer)\n",
    "            hid_b = tf.get_variable('b', config.hidden_size, initializer=zero_initializer)\n",
    "        hid_out = tf.nn.tanh(tf.matmul(rnn_last_output, hid_w) + hid_b)\n",
    "        tf.summary.histogram('hid_out', hid_out)\n",
    "            \n",
    "    return hid_out, x, top_embed, assign_embed"
   ]
  },
  {
   "cell_type": "code",
   "execution_count": 8,
   "metadata": {
    "collapsed": false,
    "deletable": true,
    "editable": true
   },
   "outputs": [],
   "source": [
    "def loss(config, hid_out):\n",
    "    \"\"\"Loss Function: noise contrastive estimation on final output of RNN\"\"\"\n",
    "    with tf.name_scope('output'):\n",
    "        y = tf.placeholder(tf.int32, shape=(config.batch_size, 1))\n",
    "        with tf.variable_scope('output'):\n",
    "            w = tf.get_variable('w', (config.vocab_size, config.hidden_size),\n",
    "                                   initializer=vsi_initializer)\n",
    "            b = tf.get_variable('b', config.vocab_size, initializer=zero_initializer)\n",
    "        batch_loss = tf.reduce_mean(\n",
    "            tf.nn.nce_loss(w, b, inputs=hid_out, labels=y,\n",
    "                           num_sampled=config.neg_samples,\n",
    "                           num_classes=config.vocab_size,\n",
    "                           num_true=1), name='batch_loss')\n",
    "        tf.summary.scalar('batch_loss', batch_loss)\n",
    "    \n",
    "    with tf.name_scope('predict'):\n",
    "        y_hat = tf.argmax(tf.matmul(hid_out, w, transpose_b=True) + b, axis=1)\n",
    "    \n",
    "    return y, batch_loss, y_hat"
   ]
  },
  {
   "cell_type": "code",
   "execution_count": 9,
   "metadata": {
    "collapsed": false,
    "deletable": true,
    "editable": true
   },
   "outputs": [],
   "source": [
    "def train(config, batch_loss):\n",
    "    with tf.name_scope('optimize'):\n",
    "        step = tf.Variable(0, trainable=False, name='global_step')\n",
    "        if config.opt == 'lstm':\n",
    "            optimizer = tf.train.MomentumOptimizer(config.learn_rate, config.momentum)\n",
    "        train_op = optimizer.minimize(batch_loss, name='minimize_op', global_step=step)\n",
    "    \n",
    "    return train_op, step"
   ]
  },
  {
   "cell_type": "code",
   "execution_count": 10,
   "metadata": {
    "collapsed": false,
    "deletable": true,
    "editable": true
   },
   "outputs": [],
   "source": [
    "class MyGraph(object):\n",
    "    def __init__(self, config):\n",
    "        self.hid_out, self.x, self.top_embed, self.assign_embed = model(config)\n",
    "        self.y, self.batch_loss, self.y_hat = loss(config, self.hid_out)\n",
    "        self.train_op, self.step = train(config, self.batch_loss)\n",
    "        self.init = tf.global_variables_initializer()\n",
    "        # Save histogram of all trainable variables for viewing in TensorBoard\n",
    "        [tf.summary.histogram(v.name.replace(':', '_'), v) for v in tf.trainable_variables()]\n",
    "        self.summ = tf.summary.merge_all()\n",
    "        self.saver = tf.train.Saver(max_to_keep=2)       "
   ]
  },
  {
   "cell_type": "code",
   "execution_count": 11,
   "metadata": {
    "collapsed": true
   },
   "outputs": [],
   "source": [
    "def embed_vis(summary_writer, g):\n",
    "    \"\"\"Setup for Tensorboard embedding visualization\"\"\"\n",
    "    config = tf.contrib.tensorboard.plugins.projector.ProjectorConfig()\n",
    "    embedding = config.embeddings.add()\n",
    "    embedding.tensor_name = g.top_embed.name\n",
    "    embedding.metadata_path = 'embed_metadata.tsv'\n",
    "    tf.contrib.tensorboard.plugins.projector.visualize_embeddings(summary_writer, config)  "
   ]
  },
  {
   "cell_type": "code",
   "execution_count": 12,
   "metadata": {
    "collapsed": true
   },
   "outputs": [],
   "source": [
    "def build_logfile_name(config):\n",
    "    \"\"\"Generate logfile name based on training configuration and model params\"\"\"\n",
    "    logfile_name = ('../tf_logs/{}_st={}_es={}_rs={}_lr={}_e={}'.\n",
    "                    format(config.opt, config.num_rnn_steps, \n",
    "                           config.embed_size, config.rnn_size,\n",
    "                           config.learn_rate, config.epochs))\n",
    "    \n",
    "    return logfile_name"
   ]
  },
  {
   "cell_type": "code",
   "execution_count": 13,
   "metadata": {
    "collapsed": false,
    "deletable": true,
    "editable": true,
    "scrolled": false
   },
   "outputs": [
    {
     "name": "stdout",
     "output_type": "stream",
     "text": [
      "Epoch #1 Loss (20 batch average): 6.5539130687713625\n",
      "Epoch #2 Loss (20 batch average): 5.400937223434449\n",
      "Epoch #3 Loss (20 batch average): 4.938713490962982\n",
      "Epoch #4 Loss (20 batch average): 4.572123324871063\n",
      "Epoch #5 Loss (20 batch average): 4.389532792568207\n",
      "Epoch #6 Loss (20 batch average): 4.46653653383255\n",
      "Epoch #7 Loss (20 batch average): 4.161165452003479\n",
      "Epoch #8 Loss (20 batch average): 4.12166440486908\n",
      "Epoch #9 Loss (20 batch average): 3.9916865110397337\n",
      "Epoch #10 Loss (20 batch average): 3.837704074382782\n",
      "Epoch #11 Loss (20 batch average): 4.02406644821167\n",
      "Epoch #12 Loss (20 batch average): 3.8425199508666994\n",
      "Epoch #13 Loss (20 batch average): 3.7785585284233094\n",
      "Epoch #14 Loss (20 batch average): 3.7044267058372498\n",
      "Epoch #15 Loss (20 batch average): 3.4394237399101257\n",
      "Epoch #16 Loss (20 batch average): 3.3738654375076296\n",
      "Epoch #17 Loss (20 batch average): 3.2736521005630492\n",
      "Epoch #18 Loss (20 batch average): 3.1109604358673097\n",
      "Epoch #19 Loss (20 batch average): 3.082071328163147\n",
      "Epoch #20 Loss (20 batch average): 3.1729257464408875\n",
      "Epoch #21 Loss (20 batch average): 3.0365179896354677\n",
      "Epoch #22 Loss (20 batch average): 3.022801947593689\n",
      "Epoch #23 Loss (20 batch average): 3.02323956489563\n",
      "Epoch #24 Loss (20 batch average): 2.979520630836487\n",
      "Epoch #25 Loss (20 batch average): 2.9019853591918947\n",
      "Epoch #26 Loss (20 batch average): 2.9992393851280212\n",
      "Epoch #27 Loss (20 batch average): 3.045906126499176\n",
      "Epoch #28 Loss (20 batch average): 2.8220056653022767\n",
      "Epoch #29 Loss (20 batch average): 2.903590476512909\n",
      "Epoch #30 Loss (20 batch average): 2.8102392673492433\n",
      "Epoch #31 Loss (20 batch average): 2.8145930647850035\n",
      "Epoch #32 Loss (20 batch average): 2.8202972531318666\n",
      "Epoch #33 Loss (20 batch average): 2.761298179626465\n",
      "Epoch #34 Loss (20 batch average): 2.7269188165664673\n",
      "Epoch #35 Loss (20 batch average): 2.5201093673706056\n",
      "Epoch #36 Loss (20 batch average): 2.6513837218284606\n",
      "Epoch #37 Loss (20 batch average): 2.720898246765137\n",
      "Epoch #38 Loss (20 batch average): 2.6709464371204374\n",
      "Epoch #39 Loss (20 batch average): 2.6470585107803344\n",
      "Epoch #40 Loss (20 batch average): 2.5994501948356628\n",
      "Epoch #41 Loss (20 batch average): 2.6740864634513857\n",
      "Epoch #42 Loss (20 batch average): 2.6555411338806154\n",
      "Epoch #43 Loss (20 batch average): 2.565804493427277\n",
      "Epoch #44 Loss (20 batch average): 2.5798104047775268\n",
      "Epoch #45 Loss (20 batch average): 2.6797012209892275\n",
      "Epoch #46 Loss (20 batch average): 2.4824284613132477\n",
      "Epoch #47 Loss (20 batch average): 2.4379476428031923\n",
      "Epoch #48 Loss (20 batch average): 2.685290277004242\n",
      "Epoch #49 Loss (20 batch average): 2.570745885372162\n",
      "Epoch #50 Loss (20 batch average): 2.49377219080925\n"
     ]
    }
   ],
   "source": [
    "logfile_name = build_logfile_name(config)\n",
    "summary_interval = 250\n",
    "move_avg_len = 20\n",
    "move_avg_loss = np.zeros(move_avg_len)\n",
    "with tf.Graph().as_default():\n",
    "    g = MyGraph(config)\n",
    "    with tf.Session() as sess:\n",
    "        sess.run(g.init)\n",
    "        writer = tf.summary.FileWriter(logfile_name+'/', tf.get_default_graph())\n",
    "        for e in range(config.epochs):\n",
    "            for t in tqdm_notebook(feeder(config, word_array),\n",
    "                                   total=epoch_len(config, word_array),\n",
    "                                   desc='Epoch #{}'.format(e+1), leave=False):\n",
    "                feed = {g.x: t[0], g.y: t[1]}\n",
    "                [_, batch_loss, step] = sess.run([g.train_op, g.batch_loss, g.step],\n",
    "                                               feed_dict=feed)\n",
    "                move_avg_loss[step % move_avg_len] = batch_loss\n",
    "                if (step % summary_interval) == 0:\n",
    "                    sess.run(g.assign_embed)\n",
    "                    writer.add_summary(sess.run(g.summ, feed_dict=feed), step)\n",
    "            print('Epoch #{} Loss ({} batch average): {}'.\n",
    "                  format(e+1, move_avg_len, np.mean(move_avg_loss)))\n",
    "            last_saved = g.saver.save(sess, logfile_name, global_step=e)\n",
    "        embed_vis(writer, g)\n",
    "        writer.close()"
   ]
  },
  {
   "cell_type": "code",
   "execution_count": 18,
   "metadata": {
    "collapsed": false,
    "deletable": true,
    "editable": true,
    "scrolled": false
   },
   "outputs": [],
   "source": [
    "config.batch_size = 1\n",
    "\n",
    "start = 11698  # start position in document\n",
    "input = word_array[start:(start+config.num_rnn_steps)]\n",
    "with tf.Graph().as_default():\n",
    "    g = MyGraph(config)\n",
    "    with tf.Session() as sess:\n",
    "        g.saver.restore(sess, last_saved)\n",
    "        for i in range(250):\n",
    "            feed = {g.x: np.reshape(input[i:(i+config.num_rnn_steps)], (1, -1))}\n",
    "            [pred] = sess.run([g.y_hat], feed_dict=feed)\n",
    "            input = np.append(input, [pred])"
   ]
  },
  {
   "cell_type": "code",
   "execution_count": 19,
   "metadata": {
    "collapsed": false,
    "deletable": true,
    "editable": true
   },
   "outputs": [
    {
     "name": "stdout",
     "output_type": "stream",
     "text": [
      " how did you know,  for example,  that i did manual labour.  it's as true as gospel,  for i began to spend the stone upon the table.  it was a giant stick instead of my life.  it was a noiseless lock,  and as i stretched him out he outpaced me.  it swelled up dangling behind us,  as if a curtain,  it seemed to be beautifully.  the centre is standing in the shape of a verdict in forming an instant,  and a greater difference of free.  but the fact that they are on an english brother - smelling. \"\" oh,  yes,  i am beginnin' to feel ours. \"\" you don't prick yourself? \"\" 1000 pounds! \" said holmes cheerily. \" 'this is certainly one rogue and i am. \"\" i am sorry for this morning,  and on observing trifles. \" ryder departed all over with his head. \" i am sorry for you know more about my belief,  watson,  that i am afraid that i am afraid that i am afraid that i am afraid that i am ever ashamed of leaving this morning.  ' i took it out with my head,  and as i ascended him i thought it sane and mind at present mind until i was always.  i knew that i knew what woman's plan - faced,  and as i ascended my mind i knew that within direction.  it was a noiseless lock, \n"
     ]
    }
   ],
   "source": [
    "# print predicted passage\n",
    "passage_predict = [x for x in map(lambda x: reverse_dict[x], input)]\n",
    "readable = ''\n",
    "for word in passage_predict:\n",
    "    if word in '\"()':\n",
    "        readable += word\n",
    "    elif word in '?!.,,;:':\n",
    "        readable += word + ' '\n",
    "    else: \n",
    "        readable += ' ' + word\n",
    "print(readable)"
   ]
  },
  {
   "cell_type": "code",
   "execution_count": 13,
   "metadata": {
    "collapsed": false
   },
   "outputs": [
    {
     "data": {
      "text/plain": [
       "1853"
      ]
     },
     "execution_count": 13,
     "metadata": {},
     "output_type": "execute_result"
    }
   ],
   "source": [
    "dictionary[\")\"]"
   ]
  },
  {
   "cell_type": "code",
   "execution_count": null,
   "metadata": {
    "collapsed": true
   },
   "outputs": [],
   "source": []
  }
 ],
 "metadata": {
  "kernelspec": {
   "display_name": "Python 3",
   "language": "python",
   "name": "python3"
  },
  "language_info": {
   "codemirror_mode": {
    "name": "ipython",
    "version": 3
   },
   "file_extension": ".py",
   "mimetype": "text/x-python",
   "name": "python",
   "nbconvert_exporter": "python",
   "pygments_lexer": "ipython3",
   "version": "3.5.2"
  }
 },
 "nbformat": 4,
 "nbformat_minor": 2
}
